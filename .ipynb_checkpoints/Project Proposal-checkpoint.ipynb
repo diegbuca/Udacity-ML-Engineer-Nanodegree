{
 "cells": [
  {
   "cell_type": "markdown",
   "metadata": {},
   "source": [
    "# Project Proposal"
   ]
  },
  {
   "cell_type": "markdown",
   "metadata": {},
   "source": [
    "### Domain Background "
   ]
  },
  {
   "cell_type": "markdown",
   "metadata": {},
   "source": [
    "In a world where advertising is becoming increasingly competetive, it is becoming also more and more important to target your audience accurately in order to ensure your business can continue to thrive.\n",
    "With the recent advancements in computing, machine learning algorithms are now largely available in a number of frameworks that makes it easy for everybody to train and use. Leveraging this new technology to target your customers accurately is nowadays paramount.\n",
    "Starbucks is a coffee company that was founded in 1971 in Seattle and despite his strong presence is the market, the recent pandemic hit the sector quite strongly. Starbucks reported his first quarterly loss in 7 years (source: https://www.ft.com/content/4c876c5a-a03a-3f57-8a04-c364b12ad4b7) and many bars and restaurants had to close down as their profitability was strongly undermined by the social distancing guidelines put in place by world governments."
   ]
  },
  {
   "cell_type": "markdown",
   "metadata": {},
   "source": [
    "### Problem Statement"
   ]
  },
  {
   "cell_type": "markdown",
   "metadata": {},
   "source": [
    "Starbucks wants to improve the way it proposes deals and offers through the app to its customers. The aim of this project is to leverage machine learning algorithms to increase revenue by targeting the right audience and drawing them to the stores. The goal of this project is to analyse historical data to draw insights and create a model to better target customers. "
   ]
  },
  {
   "cell_type": "markdown",
   "metadata": {},
   "source": [
    "### Datasets and Inputs"
   ]
  },
  {
   "cell_type": "markdown",
   "metadata": {},
   "source": [
    "The data we are going to use is contained in three files:\n",
    "\n",
    "* portfolio.json - containing offer ids and meta data about each offer (duration, type, etc.)\n",
    "* profile.json - demographic data for each customer\n",
    "* transcript.json - records for transactions, offers received, offers viewed, and offers completed\n",
    "\n",
    "\n",
    "Here is the schema and explanation of each variable in the files:\n",
    "\n",
    "portfolio.json\n",
    "\n",
    "* id (string) - offer id\n",
    "* offer_type (string) - type of offer ie BOGO, discount, informational\n",
    "* difficulty (int) - minimum required spend to complete an offer\n",
    "* reward (int) - reward given for completing an offer\n",
    "* duration (int) - time for offer to be open, in days\n",
    "* channels (list of strings)\n",
    "\n",
    "profile.json\n",
    "\n",
    "* age (int) - age of the customer\n",
    "* became_member_on (int) - date when customer created an app account\n",
    "* gender (str) - gender of the customer (note some entries contain 'O' for other rather than M or F)\n",
    "* id (str) - customer id\n",
    "* income (float) - customer's income\n",
    "\n",
    "transcript.json\n",
    "\n",
    "* event (str) - record description (ie transaction, offer received, offer viewed, etc.)\n",
    "* person (str) - customer id\n",
    "* time (int) - time in hours since start of test. The data begins at time t=0\n",
    "* value - (dict of strings) - either an offer id or transaction amount depending on the record\n",
    "\n",
    "We will leverage historical patterns on which customers accepted offers received through the app, and use that data to build ML models to predict whether a customer is likely to complete the offer upon receipt."
   ]
  },
  {
   "cell_type": "markdown",
   "metadata": {},
   "source": [
    "### Solution Statement"
   ]
  },
  {
   "cell_type": "markdown",
   "metadata": {},
   "source": [
    "I am going to build a Machine Learning model to predict whether the customer will complete the offer or not based on historical patterns. The success will be measured based on accuracy (Offers completed/Offers sent)"
   ]
  },
  {
   "cell_type": "markdown",
   "metadata": {},
   "source": [
    "### Benchmark Model "
   ]
  },
  {
   "cell_type": "markdown",
   "metadata": {},
   "source": [
    "The Benchmark that our model needs to improve on is the current completion rate of the dataset. Based on historical patterns we can see in the dataset provided (transaction.json) that only around 59% of customers completed the offer (Offers Completed / Offers Sent). We will need to develop a model that obtains a better accuracy than that."
   ]
  },
  {
   "cell_type": "markdown",
   "metadata": {},
   "source": [
    "### Project Design"
   ]
  },
  {
   "cell_type": "markdown",
   "metadata": {},
   "source": [
    "The project will follow the classic Machine Learning Workflow and I will carry out the following steps/analyses:\n",
    "\n",
    "1) EDA: Exploratory Data Analysis: In this stem we will analyse the distribution and correlations among the variables in the           dataset. This will give us a sense of what challenges we may face in modelling the data, and what variables might prove         useful for our model.\n",
    "\n",
    "2) Data Cleaning and formatting: We currently have 3 datasets and classic machine learning algorithms work with a single Matrix \n",
    "                                 or tabular data that contains the features and a target variable for our prediction.\n",
    "\n",
    "3) Feature Engineering/Selection: In this step we will create variables from the current datasets we have that we will then use                                   in the final model. We will also select the most relevant variables for our prediction and                                     retain those with the highest explanatory power.\n",
    "\n",
    "4) Data Modelling: In this step we will fit a number of machine learning algorithms and we will fine tune the parameters and                      select the best performing model against the measure we have chosen: Accuracy. The ML models we will employ \n",
    "                   are as follows: XGBoost, RandomForest and Logistic Regression.\n",
    "\n",
    "All steps will be documented and presented in a separate document."
   ]
  },
  {
   "cell_type": "code",
   "execution_count": null,
   "metadata": {},
   "outputs": [],
   "source": []
  }
 ],
 "metadata": {
  "kernelspec": {
   "display_name": "Python 3",
   "language": "python",
   "name": "python3"
  },
  "language_info": {
   "codemirror_mode": {
    "name": "ipython",
    "version": 3
   },
   "file_extension": ".py",
   "mimetype": "text/x-python",
   "name": "python",
   "nbconvert_exporter": "python",
   "pygments_lexer": "ipython3",
   "version": "3.7.6"
  }
 },
 "nbformat": 4,
 "nbformat_minor": 4
}
